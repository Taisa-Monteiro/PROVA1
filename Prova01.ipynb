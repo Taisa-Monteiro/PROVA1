{
 "cells": [
  {
   "cell_type": "code",
   "execution_count": 2,
   "id": "f067f1a5-8071-4237-aebb-10207a2c73a4",
   "metadata": {},
   "outputs": [
    {
     "name": "stdin",
     "output_type": "stream",
     "text": [
      "Digite o primeiro valor:  5\n",
      "Digite o segundo valor:  6\n",
      "Digite o terceiro valor:  4\n"
     ]
    },
    {
     "name": "stdout",
     "output_type": "stream",
     "text": [
      "A média aritmética dos dois maiores valores é:  5.5\n"
     ]
    }
   ],
   "source": [
    "# você deve receber três valores inteiros positivos. E deve retornar a média aritmética dos dois maiores valores.\n",
    "x = int(input(\"Digite o primeiro valor: \"))\n",
    "y = int(input(\"Digite o segundo valor: \"))\n",
    "z = int(input(\"Digite o terceiro valor: \"))\n",
    "\n",
    "if x >= y and x >= z:\n",
    "    maiorvalor_01 = x\n",
    "    if y >= z:\n",
    "        maiorvalor_02 = y\n",
    "    else:\n",
    "        maiorvalor_02 = z\n",
    "\n",
    "elif y >= x and y >= z:\n",
    "    maiorvalor_01 = y\n",
    "    if x >= z:\n",
    "        maiorvalor_02 = x\n",
    "    else:\n",
    "        maiorvalor_02 = z\n",
    "\n",
    "else:\n",
    "    maiorvalor_1 = z\n",
    "    if x >= y:\n",
    "        maiorvalor_2 = x\n",
    "    else:\n",
    "        maiorvalor_2 = y\n",
    "\n",
    "media_aritmetica = (maiorvalor_01 + maiorvalor_02) /2\n",
    "print(\"A média aritmética dos dois maiores valores é: \", media_aritmetica)"
   ]
  },
  {
   "cell_type": "code",
   "execution_count": null,
   "id": "324111f4-6eee-47ec-b2c1-a28f806bba6e",
   "metadata": {},
   "outputs": [],
   "source": []
  }
 ],
 "metadata": {
  "kernelspec": {
   "display_name": "Python 3 (ipykernel)",
   "language": "python",
   "name": "python3"
  },
  "language_info": {
   "codemirror_mode": {
    "name": "ipython",
    "version": 3
   },
   "file_extension": ".py",
   "mimetype": "text/x-python",
   "name": "python",
   "nbconvert_exporter": "python",
   "pygments_lexer": "ipython3",
   "version": "3.11.7"
  }
 },
 "nbformat": 4,
 "nbformat_minor": 5
}
